{
 "cells": [
  {
   "cell_type": "raw",
   "id": "7e07f1c6-5638-4bd5-b106-d94c343929af",
   "metadata": {},
   "source": [
    "⭐ Day 9: Data Cleaning & Handling Missing/Invalid Values"
   ]
  },
  {
   "cell_type": "markdown",
   "id": "17889a1a-0c44-463d-a525-8b041d35bd8e",
   "metadata": {},
   "source": [
    "🧽 What is Data Cleaning?\n",
    "Data cleaning is the process of fixing or removing incorrect, corrupted, or incomplete data to make it usable for analysis and ML modeling."
   ]
  },
  {
   "cell_type": "raw",
   "id": "0d584ea6-2b8b-4c19-aed9-90c6046f37e2",
   "metadata": {},
   "source": [
    "🔍 Why Clean Data?\n",
    "Real-world data is rarely perfect. It often contains:"
   ]
  },
  {
   "cell_type": "markdown",
   "id": "3b44ff03-82d3-4dc5-a63e-ac5541a4865f",
   "metadata": {},
   "source": [
    "\n",
    "\n",
    "❌ Missing values\n",
    "\n",
    "❌ Incorrect formats\n",
    "\n",
    "❌ Outliers or extreme values\n",
    "\n",
    "❌ Duplicates or irrelevant entries\n",
    "\n",
    "Bad data = wrong insights ❌\n"
   ]
  },
  {
   "cell_type": "raw",
   "id": "ad6f6cb4-52c6-4925-b0d5-bccf059ed6b5",
   "metadata": {},
   "source": [
    "Cleaning your data ensures:\n",
    "\n",
    "Your visualizations are accurate\n",
    "\n",
    "Your models make correct predictions\n",
    "\n",
    "Your insights are trustworthy\n",
    "\n",
    "\n",
    "Clean data increases accuracy, trust, and efficiency. ✅"
   ]
  },
  {
   "cell_type": "markdown",
   "id": "875f2804-bf51-4d03-9bb9-7e1aa8d7aecf",
   "metadata": {},
   "source": [
    "🔍 Types of Data Issues & How to Fix Them"
   ]
  },
  {
   "cell_type": "markdown",
   "id": "236290d6-9b48-4a3b-ba0c-e6f3a1658687",
   "metadata": {},
   "source": [
    "1. ✅ Handling Missing Values\n",
    "\n",
    "📌 How to identify:"
   ]
  },
  {
   "cell_type": "raw",
   "id": "01039e95-999e-4a48-98da-b8a483a32bb0",
   "metadata": {},
   "source": [
    "df.isnull().sum()"
   ]
  },
  {
   "cell_type": "markdown",
   "id": "1a4b4f7d-9ac9-4296-b2b6-879f3a9eb4b5",
   "metadata": {},
   "source": [
    "📌 Ways to handle:"
   ]
  },
  {
   "cell_type": "markdown",
   "id": "54c587b0-7fd1-4a39-b789-48b6c0045d64",
   "metadata": {},
   "source": [
    "Drop missing rows/columns (if very few)"
   ]
  },
  {
   "cell_type": "raw",
   "id": "9c3bdd03-07d8-4b63-9cc8-4f8d2913a304",
   "metadata": {},
   "source": [
    "df.dropna(inplace=True)\n"
   ]
  },
  {
   "cell_type": "markdown",
   "id": "0d1802f3-4d4d-4c63-842f-f51e965bc490",
   "metadata": {},
   "source": [
    "Impute with statistics (mean/median/mode)"
   ]
  },
  {
   "cell_type": "raw",
   "id": "aaabb94f-cb52-467e-9742-429d53ddc618",
   "metadata": {},
   "source": [
    "df['age'].fillna(df['age'].mean(), inplace=True)\n",
    "df['gender'].fillna(df['gender'].mode()[0], inplace=True)\n"
   ]
  },
  {
   "cell_type": "markdown",
   "id": "3f03f95c-d217-496f-abf0-5ce39a15b613",
   "metadata": {},
   "source": [
    "Predict missing values (advanced)\n",
    "\n",
    "Use other features to predict missing values (using KNN, regression, etc.)"
   ]
  },
  {
   "cell_type": "markdown",
   "id": "45cf719f-1c1c-4ed3-89f1-042a27d53fb7",
   "metadata": {},
   "source": [
    "Use ML models that handle missing values\n",
    "\n",
    "Ex: RandomForest, XGBoost"
   ]
  },
  {
   "cell_type": "raw",
   "id": "526cf17d-8093-4076-9f39-dbdf3a09d6df",
   "metadata": {},
   "source": [
    "2. ✅ Handling Invalid Values\n",
    "\n",
    "📌 Invalid values could be:\n"
   ]
  },
  {
   "cell_type": "markdown",
   "id": "12a86b34-2944-41d1-9d0d-557261b137d4",
   "metadata": {},
   "source": [
    "\n",
    "Wrong data types (e.g., age stored as string)\n",
    "\n",
    "Nonsense values (e.g., negative salaries)\n",
    "\n",
    "Garbled text (due to encoding issues)"
   ]
  },
  {
   "cell_type": "raw",
   "id": "2b0cdbf5-25cb-430a-8dc9-fb830b7ce44c",
   "metadata": {},
   "source": [
    "📌 How to fix:"
   ]
  },
  {
   "cell_type": "markdown",
   "id": "243c70c9-ecd1-4353-b691-817c79502fcc",
   "metadata": {},
   "source": [
    "Convert data types:\n"
   ]
  },
  {
   "cell_type": "raw",
   "id": "d7f23663-b9a2-42c0-a891-482161f24728",
   "metadata": {},
   "source": [
    "df['salary'] = df['salary'].astype(float)\n"
   ]
  },
  {
   "cell_type": "markdown",
   "id": "f43607ff-abd3-4d15-b2c0-64af7a15b92f",
   "metadata": {},
   "source": [
    "Fix or remove invalid entries:"
   ]
  },
  {
   "cell_type": "raw",
   "id": "cc1da413-97a5-4426-819f-bc9d7c8bd965",
   "metadata": {},
   "source": [
    "df = df[df['age'] >= 0]  # remove negative ages\n"
   ]
  },
  {
   "cell_type": "markdown",
   "id": "9b060076-2c04-4796-97fe-c1b3a2fe87b8",
   "metadata": {},
   "source": [
    "Handle encoding:"
   ]
  },
  {
   "cell_type": "raw",
   "id": "4f8d8d52-20ec-4f5d-a306-fe0686275111",
   "metadata": {},
   "source": [
    "pd.read_csv('file.csv', encoding='cp1252')  # if utf-8 breaks\n"
   ]
  },
  {
   "cell_type": "markdown",
   "id": "210d737a-0be3-45be-ae75-9275f44de4be",
   "metadata": {},
   "source": [
    "3. ✅ Outlier Detection (Preview for Day 10)\n",
    "\n",
    "   \n",
    "Use these tools to detect outliers:\n",
    "\n",
    "Boxplots\n",
    "\n",
    "Z-score\n",
    "\n",
    "IQR method\n",
    "\n",
    "You can remove or cap them based on business logic or model sensitivity."
   ]
  },
  {
   "cell_type": "markdown",
   "id": "716edec1-6f28-46d6-b556-a7830cd0f7ca",
   "metadata": {},
   "source": [
    "🛠 Practical Example"
   ]
  },
  {
   "cell_type": "markdown",
   "id": "7fc9a85d-7ad6-46d9-b9e3-111f00672eaa",
   "metadata": {},
   "source": [
    "Imagine a dataset for customer age and purchase behavior:"
   ]
  },
  {
   "cell_type": "code",
   "execution_count": 31,
   "id": "bcff9790-de69-48a3-be59-320466204d7c",
   "metadata": {},
   "outputs": [
    {
     "data": {
      "text/html": [
       "<div>\n",
       "<style scoped>\n",
       "    .dataframe tbody tr th:only-of-type {\n",
       "        vertical-align: middle;\n",
       "    }\n",
       "\n",
       "    .dataframe tbody tr th {\n",
       "        vertical-align: top;\n",
       "    }\n",
       "\n",
       "    .dataframe thead th {\n",
       "        text-align: right;\n",
       "    }\n",
       "</style>\n",
       "<table border=\"1\" class=\"dataframe\">\n",
       "  <thead>\n",
       "    <tr style=\"text-align: right;\">\n",
       "      <th></th>\n",
       "      <th>age</th>\n",
       "      <th>gender</th>\n",
       "    </tr>\n",
       "  </thead>\n",
       "  <tbody>\n",
       "    <tr>\n",
       "      <th>0</th>\n",
       "      <td>25.0</td>\n",
       "      <td>Male</td>\n",
       "    </tr>\n",
       "    <tr>\n",
       "      <th>1</th>\n",
       "      <td>30.0</td>\n",
       "      <td>Female</td>\n",
       "    </tr>\n",
       "    <tr>\n",
       "      <th>2</th>\n",
       "      <td>NaN</td>\n",
       "      <td>Male</td>\n",
       "    </tr>\n",
       "    <tr>\n",
       "      <th>3</th>\n",
       "      <td>22.0</td>\n",
       "      <td>Female</td>\n",
       "    </tr>\n",
       "    <tr>\n",
       "      <th>4</th>\n",
       "      <td>95.0</td>\n",
       "      <td>Other</td>\n",
       "    </tr>\n",
       "    <tr>\n",
       "      <th>5</th>\n",
       "      <td>-5.0</td>\n",
       "      <td>???</td>\n",
       "    </tr>\n",
       "  </tbody>\n",
       "</table>\n",
       "</div>"
      ],
      "text/plain": [
       "    age  gender\n",
       "0  25.0    Male\n",
       "1  30.0  Female\n",
       "2   NaN    Male\n",
       "3  22.0  Female\n",
       "4  95.0   Other\n",
       "5  -5.0     ???"
      ]
     },
     "execution_count": 31,
     "metadata": {},
     "output_type": "execute_result"
    }
   ],
   "source": [
    "import pandas as pd\n",
    "import numpy as np\n",
    "df = pd.DataFrame({\n",
    "    'age': [25, 30, np.nan, 22, 95, -5],\n",
    "    'gender': ['Male', 'Female', 'Male', 'Female', 'Other', '???']\n",
    "})\n",
    "df"
   ]
  },
  {
   "cell_type": "markdown",
   "id": "1561f94a-509c-47ac-a91f-3bfcaea6f244",
   "metadata": {},
   "source": [
    "Steps to clean:\n",
    "\n",
    "Replace negative and null age values with mean\n",
    "\n",
    "Fix inconsistent gender values using a mode or manual mapping"
   ]
  },
  {
   "cell_type": "raw",
   "id": "83702346-0fe2-4d87-97ac-1d3132c2c30c",
   "metadata": {},
   "source": [
    "📋 Data Cleaning Questions to Ask Yourself:\n",
    "\n",
    "\n",
    "Does the data make sense?\n",
    "\n",
    "Are values in the correct format?\n",
    "\n",
    "Do any columns have mostly missing values?\n",
    "\n",
    "Can we fix or replace invalid data?\n",
    "\n",
    "Are units, scales, or categories consistent?"
   ]
  },
  {
   "cell_type": "markdown",
   "id": "e0e30a9b-24ea-4d41-b1f2-6b331749e550",
   "metadata": {},
   "source": [
    "✅ Takeaway\n",
    "\n",
    "\n",
    "\"Clean data isn’t just better — it’s necessary for building models that work.\"\n",
    "\n",
    "Without proper cleaning, even the best algorithm won’t give meaningful results."
   ]
  },
  {
   "cell_type": "code",
   "execution_count": null,
   "id": "10d1ddd3-32c2-4eb0-a38c-f83c1db0d112",
   "metadata": {},
   "outputs": [],
   "source": []
  }
 ],
 "metadata": {
  "kernelspec": {
   "display_name": "Python 3 (ipykernel)",
   "language": "python",
   "name": "python3"
  },
  "language_info": {
   "codemirror_mode": {
    "name": "ipython",
    "version": 3
   },
   "file_extension": ".py",
   "mimetype": "text/x-python",
   "name": "python",
   "nbconvert_exporter": "python",
   "pygments_lexer": "ipython3",
   "version": "3.9.20"
  }
 },
 "nbformat": 4,
 "nbformat_minor": 5
}
