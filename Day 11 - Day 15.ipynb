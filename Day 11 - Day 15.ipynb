{
 "cells": [
  {
   "cell_type": "markdown",
   "id": "8b3ff7ae-aaa1-4033-a515-0c695922ac6e",
   "metadata": {},
   "source": [
    "# 📊 Days 11–15: Sales Data Analysis & Business Insights (Beginner-Friendly)\n",
    "\n",
    "In our 45-Day Data Science with AI Challenge this week, I worked on a real-world **Sales Dataset**. I focused on exploring, cleaning, analysing, and visualising the data to find meaningful business insights. Here's what I learnt during **Days 11 to 15**, written in a way that's easy for anyone to follow!\n",
    "\n",
    "---\n",
    "\n",
    "## ✅ Day 11: Loading and Cleaning the Sales Data\n",
    "\n",
    "### 🔍 What I Did:\n",
    "- Loaded the sales data using `pandas.read_csv()`\n",
    "- Took a first look at the data using:\n",
    "\n",
    "\n"
   ]
  },
  {
   "cell_type": "code",
   "execution_count": 9,
   "id": "036bcfa2-74ab-4450-b441-4c860856b047",
   "metadata": {},
   "outputs": [],
   "source": [
    "#Before that import the required libs\n",
    "import pandas as pd\n",
    "import numpy as np\n",
    "import matplotlib.pyplot as plt"
   ]
  },
  {
   "cell_type": "code",
   "execution_count": 13,
   "id": "5d37203a-615e-4db4-a62b-514e03a0366c",
   "metadata": {},
   "outputs": [
    {
     "name": "stdout",
     "output_type": "stream",
     "text": [
      "Original Data:\n",
      "         Date Region Product  Sales       Revenue\n",
      "0  2024-01-01  South  Laptop  195.0  19868.360174\n",
      "1  2024-01-02   East  Tablet  368.0  20318.262951\n",
      "2  2024-01-03  South  Laptop  165.0  49506.276126\n",
      "3  2024-01-04   West   Phone  162.0  33177.927722\n",
      "4  2024-01-05  South  Laptop  300.0  28909.243426\n"
     ]
    }
   ],
   "source": [
    "# Step 2: Load Data\n",
    "sales_df = pd.read_csv(\"sales_data.csv\")\n",
    "print(\"Original Data:\")\n",
    "print(sales_df.head())"
   ]
  },
  {
   "cell_type": "markdown",
   "id": "08635b9b-2a58-411a-b211-ca022c477cf7",
   "metadata": {},
   "source": [
    "  ```python\n",
    "  sales_df.head()\n",
    "sales_df.describe()\n",
    "sales_df.info()\n",
    "sales_df.isnull().sum()\n",
    "  ```\n",
    "- Found missing values in the **Sales** and **Revenue** columns\n",
    "- Fixed the missing values by filling in the mean and median:\n",
    "  "
   ]
  },
  {
   "cell_type": "code",
   "execution_count": 19,
   "id": "f28bcc47-f2f1-49c2-bcf3-c2d61b32d4c9",
   "metadata": {},
   "outputs": [
    {
     "data": {
      "text/html": [
       "<div>\n",
       "<style scoped>\n",
       "    .dataframe tbody tr th:only-of-type {\n",
       "        vertical-align: middle;\n",
       "    }\n",
       "\n",
       "    .dataframe tbody tr th {\n",
       "        vertical-align: top;\n",
       "    }\n",
       "\n",
       "    .dataframe thead th {\n",
       "        text-align: right;\n",
       "    }\n",
       "</style>\n",
       "<table border=\"1\" class=\"dataframe\">\n",
       "  <thead>\n",
       "    <tr style=\"text-align: right;\">\n",
       "      <th></th>\n",
       "      <th>Sales</th>\n",
       "      <th>Revenue</th>\n",
       "    </tr>\n",
       "  </thead>\n",
       "  <tbody>\n",
       "    <tr>\n",
       "      <th>count</th>\n",
       "      <td>480.000000</td>\n",
       "      <td>480.000000</td>\n",
       "    </tr>\n",
       "    <tr>\n",
       "      <th>mean</th>\n",
       "      <td>278.616667</td>\n",
       "      <td>27805.777003</td>\n",
       "    </tr>\n",
       "    <tr>\n",
       "      <th>std</th>\n",
       "      <td>129.846959</td>\n",
       "      <td>12970.497686</td>\n",
       "    </tr>\n",
       "    <tr>\n",
       "      <th>min</th>\n",
       "      <td>50.000000</td>\n",
       "      <td>5094.672943</td>\n",
       "    </tr>\n",
       "    <tr>\n",
       "      <th>25%</th>\n",
       "      <td>165.750000</td>\n",
       "      <td>16938.271402</td>\n",
       "    </tr>\n",
       "    <tr>\n",
       "      <th>50%</th>\n",
       "      <td>270.000000</td>\n",
       "      <td>28755.596538</td>\n",
       "    </tr>\n",
       "    <tr>\n",
       "      <th>75%</th>\n",
       "      <td>396.500000</td>\n",
       "      <td>38608.597404</td>\n",
       "    </tr>\n",
       "    <tr>\n",
       "      <th>max</th>\n",
       "      <td>499.000000</td>\n",
       "      <td>49987.121187</td>\n",
       "    </tr>\n",
       "  </tbody>\n",
       "</table>\n",
       "</div>"
      ],
      "text/plain": [
       "            Sales       Revenue\n",
       "count  480.000000    480.000000\n",
       "mean   278.616667  27805.777003\n",
       "std    129.846959  12970.497686\n",
       "min     50.000000   5094.672943\n",
       "25%    165.750000  16938.271402\n",
       "50%    270.000000  28755.596538\n",
       "75%    396.500000  38608.597404\n",
       "max    499.000000  49987.121187"
      ]
     },
     "execution_count": 19,
     "metadata": {},
     "output_type": "execute_result"
    }
   ],
   "source": [
    "\n",
    "sales_df.describe()\n"
   ]
  },
  {
   "cell_type": "code",
   "execution_count": 21,
   "id": "9a6f4e27-0d6c-4bca-b809-0bba02e76af8",
   "metadata": {},
   "outputs": [
    {
     "name": "stdout",
     "output_type": "stream",
     "text": [
      "<class 'pandas.core.frame.DataFrame'>\n",
      "RangeIndex: 500 entries, 0 to 499\n",
      "Data columns (total 5 columns):\n",
      " #   Column   Non-Null Count  Dtype  \n",
      "---  ------   --------------  -----  \n",
      " 0   Date     500 non-null    object \n",
      " 1   Region   500 non-null    object \n",
      " 2   Product  500 non-null    object \n",
      " 3   Sales    480 non-null    float64\n",
      " 4   Revenue  480 non-null    float64\n",
      "dtypes: float64(2), object(3)\n",
      "memory usage: 19.7+ KB\n"
     ]
    }
   ],
   "source": [
    "sales_df.info()\n"
   ]
  },
  {
   "cell_type": "markdown",
   "id": "0688c837-8d81-4d8d-862f-b4a64bf78699",
   "metadata": {},
   "source": [
    "sales_df.isnull().sum()"
   ]
  },
  {
   "cell_type": "code",
   "execution_count": 28,
   "id": "9ff3abce-3039-4595-9c36-d2ce4989861f",
   "metadata": {},
   "outputs": [],
   "source": [
    "# Step 3: Handle Missing Values\n",
    "sales_df[\"Sales\"].fillna(sales_df[\"Sales\"].mean(), inplace=True)\n",
    "sales_df[\"Revenue\"].fillna(sales_df[\"Revenue\"].median(), inplace=True)"
   ]
  },
  {
   "cell_type": "markdown",
   "id": "f6be2d1f-c94d-40da-a8a5-4ec271c0ca00",
   "metadata": {},
   "source": [
    "\n",
    "\n",
    "### ✅ Why It Matters:\n",
    "If your data has missing values, your analysis and machine learning results might be wrong. Cleaning the data is the first and most important step!\n",
    "\n",
    "> “Clean data = reliable results.”\n",
    "\n",
    "---\n"
   ]
  },
  {
   "cell_type": "markdown",
   "id": "bea150d4-f608-4e1a-a85f-6c7b6b5bef10",
   "metadata": {},
   "source": [
    "\n",
    "## ✅ Day 12: Checking Sales and Revenue by Region\n",
    "\n",
    "### 🔍 What I Did:\n",
    "Grouped the data by **Region** to see which areas had the highest total Sales and Revenue:\n",
    "```python\n",
    "region_summary = sales_df.groupby(\"Region\")[[\"Sales\", \"Revenue\"]].sum()\n",
    "```\n"
   ]
  },
  {
   "cell_type": "code",
   "execution_count": 34,
   "id": "5601194a-874e-494a-9a05-5a238be09f69",
   "metadata": {},
   "outputs": [
    {
     "name": "stdout",
     "output_type": "stream",
     "text": [
      "\n",
      "Total Sales and Revenue Per Region:\n",
      "               Sales       Revenue\n",
      "Region                            \n",
      "East    32751.083333  3.252373e+06\n",
      "North   36930.700000  3.790786e+06\n",
      "South   36942.850000  3.617088e+06\n",
      "West    32683.700000  3.261638e+06\n"
     ]
    }
   ],
   "source": [
    "# Step 4: Total Sales and Revenue Per Region\n",
    "region_summary = sales_df.groupby(\"Region\")[[\"Sales\", \"Revenue\"]].sum()\n",
    "print(\"\\nTotal Sales and Revenue Per Region:\")\n",
    "print(region_summary)"
   ]
  },
  {
   "cell_type": "markdown",
   "id": "d53064ef-4c90-4169-a196-16b33a6d5539",
   "metadata": {},
   "source": [
    "\n",
    "### ✅ Why It Matters:\n",
    "- Helps businesses know which regions are performing well\n",
    "- Great for planning marketing or stock levels in different places\n",
    "\n",
    "> “Simple summaries can reveal powerful patterns.”\n",
    "\n",
    "---"
   ]
  },
  {
   "cell_type": "markdown",
   "id": "3ae92c83-376f-4952-946e-a8336b5bfe5e",
   "metadata": {},
   "source": [
    "\n",
    "\n",
    "## ✅ Day 13: Finding the Best-Selling Products\n",
    "\n",
    "### 🔍 What I Did:\n",
    "Grouped the data by **Product** to find the top-selling items:\n",
    "```python\n",
    "product_sales = sales_df.groupby(\"Product\")[\"Sales\"].sum().sort_values(ascending=False)\n",
    "top_3_products = product_sales.head(3)\n",
    "```\n",
    "\n",
    "\n"
   ]
  },
  {
   "cell_type": "code",
   "execution_count": 36,
   "id": "f05b7ff2-a3ed-45d1-a522-69c8a2639b9e",
   "metadata": {},
   "outputs": [],
   "source": [
    "# Step 5: Top 3 Best-Selling Products\n",
    "product_sales = sales_df.groupby(\"Product\")[\"Sales\"].sum().sort_values(ascending=False)\n",
    "top_3_products = product_sales.head(3)"
   ]
  },
  {
   "cell_type": "markdown",
   "id": "ddbbe23a-3f1e-473b-a19c-74180340c063",
   "metadata": {},
   "source": [
    "\n",
    "### ✅ Why It Matters:\n",
    "- Shows which products earn the most money\n",
    "- Helps in stock planning, promotions, or product bundling\n",
    "\n",
    "> “Your best products deserve the most attention.”\n",
    "\n",
    "---"
   ]
  },
  {
   "cell_type": "markdown",
   "id": "1cb4fdb8-268e-453d-b3d1-5a353db6530c",
   "metadata": {},
   "source": [
    "## ✅ Day 14: Making a Chart for the Top 3 Products\n",
    "\n",
    "### 🔍 What I Did:\n",
    "Used Matplotlib to create a bar chart that shows the top 3 products visually:\n",
    "```python\n",
    "import matplotlib.pyplot as plt\n",
    "\n",
    "plt.figure(figsize=(8, 5))\n",
    "top_3_products.plot(kind='bar', color=['blue', 'green', 'red'])\n",
    "plt.title(\"Top 3 Best-Selling Products\")\n",
    "plt.xlabel(\"Product\")\n",
    "plt.ylabel(\"Total Sales\")\n",
    "plt.xticks(rotation=0)\n",
    "plt.show()\n",
    "```\n",
    "\n",
    "\n"
   ]
  },
  {
   "cell_type": "code",
   "execution_count": 54,
   "id": "f782e9f1-ebae-480a-a378-952d92584948",
   "metadata": {},
   "outputs": [
    {
     "data": {
      "image/png": "[encoded data removed]",
      "text/plain": [
       "<Figure size 576x360 with 1 Axes>"
      ]
     },
     "metadata": {
      "needs_background": "light"
     },
     "output_type": "display_data"
    }
   ],
   "source": [
    "# Visualization\n",
    "plt.figure(figsize=(8, 5))\n",
    "top_3_products.plot(kind='bar', color=['blue', 'green', 'red'])\n",
    "plt.title(\"Top 3 Best-Selling Products\")\n",
    "plt.xlabel(\"Product\")\n",
    "plt.ylabel(\"Total Sales\")\n",
    "plt.xticks(rotation=0)\n",
    "plt.show()"
   ]
  },
  {
   "cell_type": "code",
   "execution_count": 56,
   "id": "8181696d-1f86-4e28-90ff-0a89b2508f7e",
   "metadata": {},
   "outputs": [
    {
     "name": "stdout",
     "output_type": "stream",
     "text": [
      "\n",
      "Cleaned dataset saved as 'cleaned_sales_data.csv'\n"
     ]
    }
   ],
   "source": [
    "# Step 6: Save Cleaned Data\n",
    "sales_df.to_csv(\"cleaned_sales_data.csv\", index=False)\n",
    "print(\"\\nCleaned dataset saved as 'cleaned_sales_data.csv'\")"
   ]
  },
  {
   "cell_type": "markdown",
   "id": "d9dcb452-b874-4655-b821-8d4352fe1a06",
   "metadata": {},
   "source": [
    "\n",
    "### ✅ Why It Matters:\n",
    "- Visual charts are easier to understand than numbers alone\n",
    "- Great for reports and presentations\n",
    "\n",
    "> “A chart turns rows of numbers into a story anyone can see.”\n",
    "\n",
    "---"
   ]
  },
  {
   "cell_type": "markdown",
   "id": "fd4c4dde-3dba-421b-8283-22bdee12fe0e",
   "metadata": {},
   "source": [
    "## ✅ Day 15: Wrapping Up with Business Insights\n",
    "\n",
    "### 🔍 What I Learned:\n",
    "By the end of this mini-project, I:\n",
    "- Cleaned the data\n",
    "- Explored it using group-by and summaries\n",
    "- Found out which regions and products perform best\n",
    "- Visualized my findings clearly\n",
    "\n",
    "### 💡 Real-World Skills Practiced:\n",
    "- Data Cleaning\n",
    "- Aggregating by Category\n",
    "- Ranking with GroupBy\n",
    "- Visualizing Insights\n",
    "\n",
    "### 🔮 What’s Next:\n",
    "- Time series: Look at trends over time\n",
    "- Forecasting: Predict future sales using past data\n",
    "\n",
    "> “Data becomes powerful when it’s clean, clear, and shared.”\n",
    "\n",
    "---\n",
    "\n",
    "### 🧾 Summary Table\n",
    "| Day | What I Did                            | What I Learned                               |\n",
    "|-----|----------------------------------------|----------------------------------------------|\n",
    "| 11  | Load & clean the data                  | Fix missing values with mean/median          |\n",
    "| 12  | Grouped by Region                      | Compare sales and revenue by location        |\n",
    "| 13  | Ranked products by sales               | Find the most popular products               |\n",
    "| 14  | Created a bar chart of top products    | Learn basic data visualization               |\n",
    "| 15  | Reviewed insights and planned next     | Turned data into business decisions          |\n",
    "\n",
    "---\n",
    "\n",
    "📌 Stay tuned for **Days 16–20**, where I’ll explore **trends over time, customer behavior, and predictions!**\n",
    "\n",
    "#45DaysOfDataScience #EDA #DataCleaning #SalesAnalysis #Python #Matplotlib #JupyterNotebook"
   ]
  }
 ],
 "metadata": {
  "kernelspec": {
   "display_name": "Python 3 (ipykernel)",
   "language": "python",
   "name": "python3"
  },
  "language_info": {
   "codemirror_mode": {
    "name": "ipython",
    "version": 3
   },
   "file_extension": ".py",
   "mimetype": "text/x-python",
   "name": "python",
   "nbconvert_exporter": "python",
   "pygments_lexer": "ipython3",
   "version": "3.9.20"
  }
 },
 "nbformat": 4,
 "nbformat_minor": 5
}
