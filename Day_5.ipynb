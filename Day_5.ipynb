{
 "cells": [
  {
   "cell_type": "raw",
   "id": "a8817dc3-60ed-474f-8bb6-3cea4d7d0927",
   "metadata": {},
   "source": [
    "✅ Day 5: Accessing a MySQL Database with Python"
   ]
  },
  {
   "cell_type": "markdown",
   "id": "2fe27d63-ad49-4dc0-b0db-a02a56b86f07",
   "metadata": {},
   "source": [
    "# 🗃 Day 5: Connecting Python with MySQL\n",
    "\n",
    "Welcome to Day 5 of the 45-day Data Science with AI Challenge! 🎯\n",
    "\n",
    "Today we’ll learn how to:\n",
    "1. 🔗 Connect Python to a MySQL database\n",
    "2. 🧾 Fetch data and read it into a Pandas DataFrame\n",
    "\n",
    "Let’s get started!\n"
   ]
  },
  {
   "cell_type": "raw",
   "id": "a59cf485-4081-41e0-996f-074ea3bc83f5",
   "metadata": {},
   "source": [
    "🔌 Step 1: What You Need"
   ]
  },
  {
   "cell_type": "markdown",
   "id": "dbdbd743-07c2-4807-a817-5b08769c707c",
   "metadata": {},
   "source": [
    "To connect Python to MySQL, we need the **`pymysql`** package.\n",
    "\n",
    "You can install it by running:\n"
   ]
  },
  {
   "cell_type": "code",
   "execution_count": 4,
   "id": "c2229440-2936-4a52-8fa1-a7a0aecd01c3",
   "metadata": {},
   "outputs": [
    {
     "name": "stdout",
     "output_type": "stream",
     "text": [
      "Requirement already satisfied: pymysql in c:\\users\\ram\\anaconda3\\lib\\site-packages (1.1.1)\n",
      "Note: you may need to restart the kernel to use updated packages.\n"
     ]
    }
   ],
   "source": [
    "pip install pymysql\n"
   ]
  },
  {
   "cell_type": "raw",
   "id": "f03e5523-476d-4fb6-98fd-a35cf55b0097",
   "metadata": {},
   "source": [
    "🧠 Step 2: Connect to the MySQL Database"
   ]
  },
  {
   "cell_type": "code",
   "execution_count": 8,
   "id": "883b83e9-7b79-441b-b4d6-0e11cea43ebc",
   "metadata": {},
   "outputs": [
    {
     "name": "stdout",
     "output_type": "stream",
     "text": [
      "Connected to MySQL successfully!\n",
      "Tables: [{'Tables_in_my_new_database': 'users'}]\n",
      "MySQL connection closed.\n"
     ]
    }
   ],
   "source": [
    "import pymysql\n",
    "import pandas as pd\n",
    "# Database connection details\n",
    "host = \"localhost\"  # or \"127.0.0.1\"\n",
    "user = \"root\"      # your MySQL username\n",
    "password = \"123456\"   # your MySQL password\n",
    "database = \"my_new_database\"   # your database name\n",
    "\n",
    "try:\n",
    "    # Establish the connection\n",
    "    connection = pymysql.connect(\n",
    "        host=host,\n",
    "        user=user,\n",
    "        password=password,\n",
    "        database=database,\n",
    "        cursorclass=pymysql.cursors.DictCursor  # Optional: Returns rows as dictionaries\n",
    "    )\n",
    "\n",
    "    print(\"Connected to MySQL successfully!\")\n",
    "\n",
    "    # Create a cursor object\n",
    "    with connection.cursor() as cursor:\n",
    "        cursor.execute(\"SHOW TABLES;\")  # Example query\n",
    "        tables = cursor.fetchall()\n",
    "        print(\"Tables:\", tables)\n",
    "\n",
    "except pymysql.MySQLError as e:\n",
    "    print(\"Error connecting to MySQL:\", e)\n",
    "\n",
    "finally:\n",
    "    if 'connection' in locals() and connection.open:\n",
    "        connection.close()\n",
    "        print(\"MySQL connection closed.\")\n"
   ]
  },
  {
   "cell_type": "raw",
   "id": "128b17c4-b8b2-4136-8c53-88b59fa71dfa",
   "metadata": {},
   "source": [
    "📥 Step 3: Read Table Data into a Pandas DataFrame"
   ]
  },
  {
   "cell_type": "code",
   "execution_count": 12,
   "id": "441c1f7e-b420-46e4-a3d6-962c3bad2626",
   "metadata": {},
   "outputs": [
    {
     "name": "stdout",
     "output_type": "stream",
     "text": [
      "✅ Connected again for data read!\n",
      "📄 Data fetched successfully!\n",
      "🔌 MySQL connection closed again.\n"
     ]
    }
   ],
   "source": [
    "try:\n",
    "    # Reconnect to MySQL\n",
    "    connection = pymysql.connect(\n",
    "        host=host,\n",
    "        user=user,\n",
    "        password=password,\n",
    "        database=database\n",
    "    )\n",
    "    print(\"✅ Connected again for data read!\")\n",
    "\n",
    "    # SQL Query to get data from 'emp' table\n",
    "    query = f\"SELECT * FROM users;\"\n",
    "    df = pd.read_sql(query, con=connection)\n",
    "    print(\"📄 Data fetched successfully!\")\n",
    "\n",
    "except pymysql.MySQLError as e:\n",
    "    print(\"❌ Error connecting to MySQL:\", e)\n",
    "\n",
    "finally:\n",
    "    if 'connection' in locals() and connection.open:\n",
    "        connection.close()\n",
    "        print(\"🔌 MySQL connection closed again.\")\n"
   ]
  },
  {
   "cell_type": "code",
   "execution_count": 14,
   "id": "48c8a9ed-d566-437c-b626-c6db360d473f",
   "metadata": {},
   "outputs": [
    {
     "data": {
      "text/html": [
       "<div>\n",
       "<style scoped>\n",
       "    .dataframe tbody tr th:only-of-type {\n",
       "        vertical-align: middle;\n",
       "    }\n",
       "\n",
       "    .dataframe tbody tr th {\n",
       "        vertical-align: top;\n",
       "    }\n",
       "\n",
       "    .dataframe thead th {\n",
       "        text-align: right;\n",
       "    }\n",
       "</style>\n",
       "<table border=\"1\" class=\"dataframe\">\n",
       "  <thead>\n",
       "    <tr style=\"text-align: right;\">\n",
       "      <th></th>\n",
       "      <th>id</th>\n",
       "      <th>name</th>\n",
       "      <th>email</th>\n",
       "      <th>password</th>\n",
       "      <th>created_at</th>\n",
       "    </tr>\n",
       "  </thead>\n",
       "  <tbody>\n",
       "    <tr>\n",
       "      <th>0</th>\n",
       "      <td>1</td>\n",
       "      <td>John Doe</td>\n",
       "      <td>john.doe@example.com</td>\n",
       "      <td>hashed_password_123</td>\n",
       "      <td>2025-03-10 09:48:08</td>\n",
       "    </tr>\n",
       "    <tr>\n",
       "      <th>1</th>\n",
       "      <td>2</td>\n",
       "      <td>Alice Smith</td>\n",
       "      <td>alice.smith@example.com</td>\n",
       "      <td>hashed_password_456</td>\n",
       "      <td>2025-03-10 09:48:08</td>\n",
       "    </tr>\n",
       "    <tr>\n",
       "      <th>2</th>\n",
       "      <td>3</td>\n",
       "      <td>Bob Johnson</td>\n",
       "      <td>bob.johnson@example.com</td>\n",
       "      <td>hashed_password_789</td>\n",
       "      <td>2025-03-10 09:48:08</td>\n",
       "    </tr>\n",
       "  </tbody>\n",
       "</table>\n",
       "</div>"
      ],
      "text/plain": [
       "   id         name                    email             password  \\\n",
       "0   1     John Doe     john.doe@example.com  hashed_password_123   \n",
       "1   2  Alice Smith  alice.smith@example.com  hashed_password_456   \n",
       "2   3  Bob Johnson  bob.johnson@example.com  hashed_password_789   \n",
       "\n",
       "           created_at  \n",
       "0 2025-03-10 09:48:08  \n",
       "1 2025-03-10 09:48:08  \n",
       "2 2025-03-10 09:48:08  "
      ]
     },
     "execution_count": 14,
     "metadata": {},
     "output_type": "execute_result"
    }
   ],
   "source": [
    "df # Let us know the data in the data frame"
   ]
  },
  {
   "cell_type": "raw",
   "id": "b7660d02-556d-4452-a501-d97017614c13",
   "metadata": {},
   "source": [
    "✏️ Step 4: Insert Data into MySQL Table"
   ]
  },
  {
   "cell_type": "code",
   "execution_count": 18,
   "id": "1242b85e-e8cc-4603-87ed-557ff638e6cf",
   "metadata": {},
   "outputs": [],
   "source": [
    "# Function to establish a database connection\n",
    "def get_connection():\n",
    "    return pymysql.connect(\n",
    "        host=host,\n",
    "        user=user,\n",
    "        password=password,\n",
    "        database=database,\n",
    "        cursorclass=pymysql.cursors.DictCursor  # Returns query results as dictionaries\n",
    "    )"
   ]
  },
  {
   "cell_type": "code",
   "execution_count": 28,
   "id": "a6db5259-c6c5-4a46-8f76-61026ac34219",
   "metadata": {},
   "outputs": [
    {
     "name": "stdout",
     "output_type": "stream",
     "text": [
      "Record inserted successfully!\n"
     ]
    }
   ],
   "source": [
    "def insert_record(id, name, email, password):\n",
    "    try:\n",
    "        connection = get_connection()\n",
    "        with connection.cursor() as cursor:\n",
    "            query = f\"INSERT INTO users (id, name, email, password) VALUES (%s, %s, %s,%s)\"\n",
    "            cursor.execute(query, (id, name, email, password))\n",
    "        connection.commit()\n",
    "        print(\"Record inserted successfully!\")\n",
    "    except pymysql.MySQLError as e:\n",
    "        print(\"Error inserting data:\", e)\n",
    "    finally:\n",
    "        if connection.open:\n",
    "            connection.close()\n",
    "\n",
    "# Example Usage\n",
    "insert_record(5 , \"John cena\", \"johncena@example.com\", \"hashed_password_1234\" )\n"
   ]
  },
  {
   "cell_type": "raw",
   "id": "03715ab0-e6da-49c6-94b1-5830faa1f746",
   "metadata": {},
   "source": [
    "🛠 Step 5: Update Existing Data"
   ]
  },
  {
   "cell_type": "code",
   "execution_count": 30,
   "id": "872b5161-522c-4655-8916-39db2a37435a",
   "metadata": {},
   "outputs": [
    {
     "name": "stdout",
     "output_type": "stream",
     "text": [
      "Record updated successfully!\n"
     ]
    }
   ],
   "source": [
    "def update_record(name, password):\n",
    "    try:\n",
    "        connection = get_connection()\n",
    "        with connection.cursor() as cursor:\n",
    "            query = f\"UPDATE users SET password = %s WHERE name = %s\"\n",
    "            cursor.execute(query, (password, name))\n",
    "        connection.commit()\n",
    "        print(\"Record updated successfully!\")\n",
    "    except pymysql.MySQLError as e:\n",
    "        print(\"Error updating data:\", e)\n",
    "    finally:\n",
    "        if connection.open:\n",
    "            connection.close()\n",
    "\n",
    "# Example Usage\n",
    "update_record(\"John\", \"hashed_password_12\")"
   ]
  },
  {
   "cell_type": "raw",
   "id": "d786dedb-9f5d-4657-9619-8cbcfb5c8071",
   "metadata": {},
   "source": [
    "step 6: Delete Data"
   ]
  },
  {
   "cell_type": "code",
   "execution_count": 32,
   "id": "c99571e7-25f2-4987-bba2-4f25beabbd3d",
   "metadata": {},
   "outputs": [
    {
     "name": "stdout",
     "output_type": "stream",
     "text": [
      "Record deleted successfully!\n"
     ]
    }
   ],
   "source": [
    "def delete_record(name):\n",
    "    try:\n",
    "        connection = get_connection()\n",
    "        with connection.cursor() as cursor:\n",
    "            query = f\"DELETE FROM users WHERE name = %s\"\n",
    "            cursor.execute(query, (name,))\n",
    "        connection.commit()\n",
    "        print(\"Record deleted successfully!\")\n",
    "    except pymysql.MySQLError as e:\n",
    "        print(\"Error deleting data:\", e)\n",
    "    finally:\n",
    "        if connection.open:\n",
    "            connection.close()\n",
    "\n",
    "# Example Usage\n",
    "delete_record(\"John\")\n"
   ]
  },
  {
   "cell_type": "markdown",
   "id": "1f0ee26a-35d8-4f9a-97c7-306329b4ccc2",
   "metadata": {},
   "source": [
    "✅ Summary (Updated)\n",
    "\n",
    "✅ Connected to MySQL from Python\n",
    "\n",
    "📄 Read data from tables using SQL\n",
    "\n",
    "📝 Inserted a new record\n",
    "\n",
    "🔁 Updated an existing record and also deleting a record\n",
    "\n",
    "📊 Loaded everything into Pandas DataFrames for analysis\n",
    "\n"
   ]
  }
 ],
 "metadata": {
  "kernelspec": {
   "display_name": "Python 3 (ipykernel)",
   "language": "python",
   "name": "python3"
  },
  "language_info": {
   "codemirror_mode": {
    "name": "ipython",
    "version": 3
   },
   "file_extension": ".py",
   "mimetype": "text/x-python",
   "name": "python",
   "nbconvert_exporter": "python",
   "pygments_lexer": "ipython3",
   "version": "3.9.20"
  }
 },
 "nbformat": 4,
 "nbformat_minor": 5
}
