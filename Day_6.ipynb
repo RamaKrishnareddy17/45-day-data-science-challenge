{
 "cells": [
  {
   "cell_type": "raw",
   "id": "761a209f-9899-4fbb-81a1-77a297cf446f",
   "metadata": {},
   "source": [
    "✅ Day 6: Time Series Slicing & Pivot Tables in Pandas"
   ]
  },
  {
   "cell_type": "markdown",
   "id": "b602a0f2-ef6a-498b-a6d3-603fc6477af3",
   "metadata": {},
   "source": [
    "# ⏰ Day 6: Working with Time Series and Pivot Tables\n",
    "\n",
    "Welcome to Day 6 of the 45-day Data Science with AI Challenge! 📊⏳\n",
    "\n",
    "Today, we’ll cover:\n",
    "1. 🕒 How to **slice time-based data** using Pandas\n",
    "2. 🔄 How to **summarize data with Pivot Tables**\n",
    "\n",
    "These are super useful when working with stock data, sales trends, or any time-based information!\n"
   ]
  },
  {
   "cell_type": "raw",
   "id": "a66f17e1-e76b-4a30-9e5a-a20f91518d65",
   "metadata": {},
   "source": [
    "🕒 Part 1: Time Series Slicing in Pandas"
   ]
  },
  {
   "cell_type": "code",
   "execution_count": 33,
   "id": "8dbf53b7-0546-4824-9787-cb715e1b93c8",
   "metadata": {},
   "outputs": [
    {
     "data": {
      "text/html": [
       "<div>\n",
       "<style scoped>\n",
       "    .dataframe tbody tr th:only-of-type {\n",
       "        vertical-align: middle;\n",
       "    }\n",
       "\n",
       "    .dataframe tbody tr th {\n",
       "        vertical-align: top;\n",
       "    }\n",
       "\n",
       "    .dataframe thead th {\n",
       "        text-align: right;\n",
       "    }\n",
       "</style>\n",
       "<table border=\"1\" class=\"dataframe\">\n",
       "  <thead>\n",
       "    <tr style=\"text-align: right;\">\n",
       "      <th></th>\n",
       "      <th>open</th>\n",
       "      <th>high</th>\n",
       "      <th>low</th>\n",
       "      <th>close</th>\n",
       "    </tr>\n",
       "    <tr>\n",
       "      <th>datetime</th>\n",
       "      <th></th>\n",
       "      <th></th>\n",
       "      <th></th>\n",
       "      <th></th>\n",
       "    </tr>\n",
       "  </thead>\n",
       "  <tbody>\n",
       "    <tr>\n",
       "      <th>2022-09-09 09:15:00</th>\n",
       "      <td>17913</td>\n",
       "      <td>17925</td>\n",
       "      <td>17911</td>\n",
       "      <td>17918</td>\n",
       "    </tr>\n",
       "    <tr>\n",
       "      <th>2022-09-09 09:16:00</th>\n",
       "      <td>17917</td>\n",
       "      <td>17918</td>\n",
       "      <td>17902</td>\n",
       "      <td>17905</td>\n",
       "    </tr>\n",
       "    <tr>\n",
       "      <th>2022-09-09 09:17:00</th>\n",
       "      <td>17903</td>\n",
       "      <td>17904</td>\n",
       "      <td>17894</td>\n",
       "      <td>17898</td>\n",
       "    </tr>\n",
       "    <tr>\n",
       "      <th>2022-09-09 09:18:00</th>\n",
       "      <td>17898</td>\n",
       "      <td>17901</td>\n",
       "      <td>17890</td>\n",
       "      <td>17890</td>\n",
       "    </tr>\n",
       "    <tr>\n",
       "      <th>2022-09-09 09:19:00</th>\n",
       "      <td>17889</td>\n",
       "      <td>17903</td>\n",
       "      <td>17889</td>\n",
       "      <td>17901</td>\n",
       "    </tr>\n",
       "  </tbody>\n",
       "</table>\n",
       "</div>"
      ],
      "text/plain": [
       "                      open   high    low  close\n",
       "datetime                                       \n",
       "2022-09-09 09:15:00  17913  17925  17911  17918\n",
       "2022-09-09 09:16:00  17917  17918  17902  17905\n",
       "2022-09-09 09:17:00  17903  17904  17894  17898\n",
       "2022-09-09 09:18:00  17898  17901  17890  17890\n",
       "2022-09-09 09:19:00  17889  17903  17889  17901"
      ]
     },
     "execution_count": 33,
     "metadata": {},
     "output_type": "execute_result"
    }
   ],
   "source": [
    "import pandas as pd\n",
    "\n",
    "# Load the time series CSV (with datetime column as index)\n",
    "df = pd.read_csv('36 - minute.csv', parse_dates=['datetime'], index_col = 'datetime')\n",
    "df.head()\n"
   ]
  },
  {
   "cell_type": "raw",
   "id": "95ff0fb2-5936-4e77-808d-345911b97c8d",
   "metadata": {},
   "source": [
    "🔍 Select Data by Exact Time"
   ]
  },
  {
   "cell_type": "code",
   "execution_count": 9,
   "id": "4c43a490-d9bf-4a39-bb33-be3f27ef3295",
   "metadata": {},
   "outputs": [
    {
     "data": {
      "text/plain": [
       "open     17913\n",
       "high     17925\n",
       "low      17911\n",
       "close    17918\n",
       "Name: 2022-09-09 09:15:00, dtype: int64"
      ]
     },
     "execution_count": 9,
     "metadata": {},
     "output_type": "execute_result"
    }
   ],
   "source": [
    "# Fetch a single minute's data\n",
    "df.loc['2022-09-09 09:15:00']\n"
   ]
  },
  {
   "cell_type": "raw",
   "id": "42577502-f460-4036-a97a-695e62afaa19",
   "metadata": {},
   "source": [
    "🕐 Select by Hour, Minute, or Date"
   ]
  },
  {
   "cell_type": "code",
   "execution_count": 35,
   "id": "aed7c9d3-a19b-4586-abf2-74a2202431d5",
   "metadata": {},
   "outputs": [
    {
     "data": {
      "text/html": [
       "<div>\n",
       "<style scoped>\n",
       "    .dataframe tbody tr th:only-of-type {\n",
       "        vertical-align: middle;\n",
       "    }\n",
       "\n",
       "    .dataframe tbody tr th {\n",
       "        vertical-align: top;\n",
       "    }\n",
       "\n",
       "    .dataframe thead th {\n",
       "        text-align: right;\n",
       "    }\n",
       "</style>\n",
       "<table border=\"1\" class=\"dataframe\">\n",
       "  <thead>\n",
       "    <tr style=\"text-align: right;\">\n",
       "      <th></th>\n",
       "      <th>open</th>\n",
       "      <th>high</th>\n",
       "      <th>low</th>\n",
       "      <th>close</th>\n",
       "    </tr>\n",
       "    <tr>\n",
       "      <th>datetime</th>\n",
       "      <th></th>\n",
       "      <th></th>\n",
       "      <th></th>\n",
       "      <th></th>\n",
       "    </tr>\n",
       "  </thead>\n",
       "  <tbody>\n",
       "    <tr>\n",
       "      <th>2022-09-09 09:15:00</th>\n",
       "      <td>17913</td>\n",
       "      <td>17925</td>\n",
       "      <td>17911</td>\n",
       "      <td>17918</td>\n",
       "    </tr>\n",
       "    <tr>\n",
       "      <th>2022-09-09 09:16:00</th>\n",
       "      <td>17917</td>\n",
       "      <td>17918</td>\n",
       "      <td>17902</td>\n",
       "      <td>17905</td>\n",
       "    </tr>\n",
       "    <tr>\n",
       "      <th>2022-09-09 09:17:00</th>\n",
       "      <td>17903</td>\n",
       "      <td>17904</td>\n",
       "      <td>17894</td>\n",
       "      <td>17898</td>\n",
       "    </tr>\n",
       "    <tr>\n",
       "      <th>2022-09-09 09:18:00</th>\n",
       "      <td>17898</td>\n",
       "      <td>17901</td>\n",
       "      <td>17890</td>\n",
       "      <td>17890</td>\n",
       "    </tr>\n",
       "    <tr>\n",
       "      <th>2022-09-09 09:19:00</th>\n",
       "      <td>17889</td>\n",
       "      <td>17903</td>\n",
       "      <td>17889</td>\n",
       "      <td>17901</td>\n",
       "    </tr>\n",
       "  </tbody>\n",
       "</table>\n",
       "</div>"
      ],
      "text/plain": [
       "                      open   high    low  close\n",
       "datetime                                       \n",
       "2022-09-09 09:15:00  17913  17925  17911  17918\n",
       "2022-09-09 09:16:00  17917  17918  17902  17905\n",
       "2022-09-09 09:17:00  17903  17904  17894  17898\n",
       "2022-09-09 09:18:00  17898  17901  17890  17890\n",
       "2022-09-09 09:19:00  17889  17903  17889  17901"
      ]
     },
     "execution_count": 35,
     "metadata": {},
     "output_type": "execute_result"
    }
   ],
   "source": [
    "# Select data for 9:20 AM\n",
    "df.loc['2022-09-09 09:20']\n",
    "\n",
    "# Select all data between 9:00 AM to 9:59 AM\n",
    "df.loc['2022-09-09 09'].head(10)\n",
    "\n",
    "# Select all data from a full day\n",
    "df.loc['2022-09-09'].head()\n",
    "\n",
    "# Select data from a full month\n",
    "df.loc['2022-09'].head()\n"
   ]
  },
  {
   "cell_type": "markdown",
   "id": "d22741e4-4016-4a99-b7c5-3ad456ae4a90",
   "metadata": {},
   "source": [
    "✅ Summary for Time Series\n",
    "\n",
    "You can filter data using just partial timestamps\n",
    "\n",
    "Use .loc[] with formats like 'YYYY-MM-DD', 'YYYY-MM-DD HH', etc.\n",
    "\n",
    "Make sure your datetime column is parsed correctly and set as index\n",
    "\n"
   ]
  },
  {
   "cell_type": "code",
   "execution_count": null,
   "id": "66ff35c4-d262-4c13-9864-93b6c7aa3b52",
   "metadata": {},
   "outputs": [],
   "source": []
  }
 ],
 "metadata": {
  "kernelspec": {
   "display_name": "Python 3 (ipykernel)",
   "language": "python",
   "name": "python3"
  },
  "language_info": {
   "codemirror_mode": {
    "name": "ipython",
    "version": 3
   },
   "file_extension": ".py",
   "mimetype": "text/x-python",
   "name": "python",
   "nbconvert_exporter": "python",
   "pygments_lexer": "ipython3",
   "version": "3.9.20"
  }
 },
 "nbformat": 4,
 "nbformat_minor": 5
}
