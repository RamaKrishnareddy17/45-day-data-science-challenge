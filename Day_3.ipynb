{
 "cells": [
  {
   "cell_type": "markdown",
   "id": "011ce59d-47e2-4634-bcf0-bfd44fafcab7",
   "metadata": {},
   "source": [
    "✅ Day 3: Grouping, Time Series, and DateTime Handling in Pandas"
   ]
  },
  {
   "cell_type": "markdown",
   "id": "732c8df9-a570-4c4a-932c-6c1e16ae0ae3",
   "metadata": {},
   "source": [
    "# 📆 Day 3: Grouping and Working with DateTime in Pandas\n",
    "\n",
    "Welcome to Day 3 of the 45-Day Data Science with AI Challenge!  \n",
    "Today, we’ll cover 3 powerful topics:\n",
    "\n",
    "1. 📊 Grouping Data using `groupby()`\n",
    "2. 🕒 Introduction to Time Series\n",
    "3. 🧮 Converting Strings to DateTime format\n",
    "\n",
    "Let’s dive in!\n"
   ]
  },
  {
   "cell_type": "code",
   "execution_count": null,
   "id": "de8ea8d2-b31c-47c2-81b4-41a99eb349c2",
   "metadata": {},
   "outputs": [],
   "source": []
  },
  {
   "cell_type": "markdown",
   "id": "b8fe958a-3e3b-4bf4-9ad1-7331adb02e8d",
   "metadata": {},
   "source": [
    "🔹 Part 1: Grouping Data with groupby()"
   ]
  },
  {
   "cell_type": "code",
   "execution_count": 12,
   "id": "6f8d86a4-214d-46c8-af96-9adccc872ea7",
   "metadata": {},
   "outputs": [
    {
     "data": {
      "text/html": [
       "<div>\n",
       "<style scoped>\n",
       "    .dataframe tbody tr th:only-of-type {\n",
       "        vertical-align: middle;\n",
       "    }\n",
       "\n",
       "    .dataframe tbody tr th {\n",
       "        vertical-align: top;\n",
       "    }\n",
       "\n",
       "    .dataframe thead th {\n",
       "        text-align: right;\n",
       "    }\n",
       "</style>\n",
       "<table border=\"1\" class=\"dataframe\">\n",
       "  <thead>\n",
       "    <tr style=\"text-align: right;\">\n",
       "      <th></th>\n",
       "      <th>Date</th>\n",
       "      <th>Product</th>\n",
       "      <th>Sales</th>\n",
       "    </tr>\n",
       "  </thead>\n",
       "  <tbody>\n",
       "    <tr>\n",
       "      <th>0</th>\n",
       "      <td>2023-01-01</td>\n",
       "      <td>A</td>\n",
       "      <td>100</td>\n",
       "    </tr>\n",
       "    <tr>\n",
       "      <th>1</th>\n",
       "      <td>2023-01-01</td>\n",
       "      <td>B</td>\n",
       "      <td>150</td>\n",
       "    </tr>\n",
       "    <tr>\n",
       "      <th>2</th>\n",
       "      <td>2023-01-02</td>\n",
       "      <td>A</td>\n",
       "      <td>120</td>\n",
       "    </tr>\n",
       "    <tr>\n",
       "      <th>3</th>\n",
       "      <td>2023-01-02</td>\n",
       "      <td>A</td>\n",
       "      <td>80</td>\n",
       "    </tr>\n",
       "    <tr>\n",
       "      <th>4</th>\n",
       "      <td>2023-01-03</td>\n",
       "      <td>C</td>\n",
       "      <td>200</td>\n",
       "    </tr>\n",
       "  </tbody>\n",
       "</table>\n",
       "</div>"
      ],
      "text/plain": [
       "         Date Product  Sales\n",
       "0  2023-01-01       A    100\n",
       "1  2023-01-01       B    150\n",
       "2  2023-01-02       A    120\n",
       "3  2023-01-02       A     80\n",
       "4  2023-01-03       C    200"
      ]
     },
     "execution_count": 12,
     "metadata": {},
     "output_type": "execute_result"
    }
   ],
   "source": [
    "import pandas as pd\n",
    "\n",
    "# Sample dataset: Date-wise product sales\n",
    "data = {\n",
    "    'Date': ['2023-01-01', '2023-01-01', '2023-01-02', '2023-01-02', '2023-01-03'],\n",
    "    'Product': ['A', 'B', 'A', 'A', 'C'],\n",
    "    'Sales': [100, 150, 120, 80, 200]\n",
    "}\n",
    "\n",
    "df = pd.DataFrame(data)\n",
    "df\n"
   ]
  },
  {
   "cell_type": "markdown",
   "id": "808d53f8-c0b8-4557-8646-96b58a4735e9",
   "metadata": {},
   "source": [
    "We have a simple dataset of product sales over a few days.\n",
    "Now, let’s summarize total sales **per day**.\n"
   ]
  },
  {
   "cell_type": "code",
   "execution_count": 15,
   "id": "77027c06-8c5c-48ae-a802-58bae5f03a6e",
   "metadata": {},
   "outputs": [
    {
     "name": "stdout",
     "output_type": "stream",
     "text": [
      "Date\n",
      "2023-01-01    250\n",
      "2023-01-02    200\n",
      "2023-01-03    200\n",
      "Name: Sales, dtype: int64\n"
     ]
    }
   ],
   "source": [
    "# Group by date and sum sales\n",
    "grouped = df.groupby('Date')['Sales'].sum()\n",
    "print(grouped)\n"
   ]
  },
  {
   "cell_type": "markdown",
   "id": "f644812a-c3a7-4bd6-8b46-1f5211898bbc",
   "metadata": {},
   "source": [
    "### 📌 Group by Multiple Columns (Date + Product)\n"
   ]
  },
  {
   "cell_type": "code",
   "execution_count": 19,
   "id": "2a174a17-ce84-40ec-bc97-72de89905ef9",
   "metadata": {},
   "outputs": [
    {
     "data": {
      "text/html": [
       "<div>\n",
       "<style scoped>\n",
       "    .dataframe tbody tr th:only-of-type {\n",
       "        vertical-align: middle;\n",
       "    }\n",
       "\n",
       "    .dataframe tbody tr th {\n",
       "        vertical-align: top;\n",
       "    }\n",
       "\n",
       "    .dataframe thead th {\n",
       "        text-align: right;\n",
       "    }\n",
       "</style>\n",
       "<table border=\"1\" class=\"dataframe\">\n",
       "  <thead>\n",
       "    <tr style=\"text-align: right;\">\n",
       "      <th></th>\n",
       "      <th></th>\n",
       "      <th>sum</th>\n",
       "      <th>max</th>\n",
       "    </tr>\n",
       "    <tr>\n",
       "      <th>Date</th>\n",
       "      <th>Product</th>\n",
       "      <th></th>\n",
       "      <th></th>\n",
       "    </tr>\n",
       "  </thead>\n",
       "  <tbody>\n",
       "    <tr>\n",
       "      <th rowspan=\"2\" valign=\"top\">2023-01-01</th>\n",
       "      <th>A</th>\n",
       "      <td>100</td>\n",
       "      <td>100</td>\n",
       "    </tr>\n",
       "    <tr>\n",
       "      <th>B</th>\n",
       "      <td>150</td>\n",
       "      <td>150</td>\n",
       "    </tr>\n",
       "    <tr>\n",
       "      <th>2023-01-02</th>\n",
       "      <th>A</th>\n",
       "      <td>200</td>\n",
       "      <td>120</td>\n",
       "    </tr>\n",
       "    <tr>\n",
       "      <th>2023-01-03</th>\n",
       "      <th>C</th>\n",
       "      <td>200</td>\n",
       "      <td>200</td>\n",
       "    </tr>\n",
       "  </tbody>\n",
       "</table>\n",
       "</div>"
      ],
      "text/plain": [
       "                    sum  max\n",
       "Date       Product          \n",
       "2023-01-01 A        100  100\n",
       "           B        150  150\n",
       "2023-01-02 A        200  120\n",
       "2023-01-03 C        200  200"
      ]
     },
     "execution_count": 19,
     "metadata": {},
     "output_type": "execute_result"
    }
   ],
   "source": [
    "# Group by date and product to get sum and max sales\n",
    "df.groupby(['Date', 'Product'])['Sales'].agg(['sum', 'max'])\n"
   ]
  },
  {
   "cell_type": "markdown",
   "id": "609bdf08-8ccd-4bb9-85d4-453b6585a098",
   "metadata": {},
   "source": [
    "💼 Example: Grouping a Portfolio\n",
    "python\n",
    "Copy code\n"
   ]
  },
  {
   "cell_type": "code",
   "execution_count": 26,
   "id": "1afacc72-04bb-45e7-a273-d06b0ac2af46",
   "metadata": {},
   "outputs": [
    {
     "data": {
      "text/html": [
       "<div>\n",
       "<style scoped>\n",
       "    .dataframe tbody tr th:only-of-type {\n",
       "        vertical-align: middle;\n",
       "    }\n",
       "\n",
       "    .dataframe tbody tr th {\n",
       "        vertical-align: top;\n",
       "    }\n",
       "\n",
       "    .dataframe thead th {\n",
       "        text-align: right;\n",
       "    }\n",
       "</style>\n",
       "<table border=\"1\" class=\"dataframe\">\n",
       "  <thead>\n",
       "    <tr style=\"text-align: right;\">\n",
       "      <th></th>\n",
       "      <th>Sector</th>\n",
       "      <th>Company</th>\n",
       "      <th>MarketCap</th>\n",
       "      <th>Share Price</th>\n",
       "      <th>Amount Invested</th>\n",
       "    </tr>\n",
       "  </thead>\n",
       "  <tbody>\n",
       "    <tr>\n",
       "      <th>0</th>\n",
       "      <td>IT</td>\n",
       "      <td>TCS</td>\n",
       "      <td>Large Cap</td>\n",
       "      <td>3250</td>\n",
       "      <td>500000</td>\n",
       "    </tr>\n",
       "    <tr>\n",
       "      <th>1</th>\n",
       "      <td>FMCG</td>\n",
       "      <td>HINDUNILVR</td>\n",
       "      <td>Large Cap</td>\n",
       "      <td>2100</td>\n",
       "      <td>43000</td>\n",
       "    </tr>\n",
       "    <tr>\n",
       "      <th>2</th>\n",
       "      <td>Finance</td>\n",
       "      <td>HDFCBANK</td>\n",
       "      <td>Mid Cap</td>\n",
       "      <td>1500</td>\n",
       "      <td>20000</td>\n",
       "    </tr>\n",
       "    <tr>\n",
       "      <th>3</th>\n",
       "      <td>Pharma</td>\n",
       "      <td>Sun Pharma</td>\n",
       "      <td>Mid Cap</td>\n",
       "      <td>930</td>\n",
       "      <td>34000</td>\n",
       "    </tr>\n",
       "    <tr>\n",
       "      <th>4</th>\n",
       "      <td>Pharma</td>\n",
       "      <td>Lupin</td>\n",
       "      <td>Mid Cap</td>\n",
       "      <td>700</td>\n",
       "      <td>55000</td>\n",
       "    </tr>\n",
       "    <tr>\n",
       "      <th>5</th>\n",
       "      <td>FMCG</td>\n",
       "      <td>Adani Wilmar</td>\n",
       "      <td>Small Cap</td>\n",
       "      <td>230</td>\n",
       "      <td>15000</td>\n",
       "    </tr>\n",
       "    <tr>\n",
       "      <th>6</th>\n",
       "      <td>FMCG</td>\n",
       "      <td>Britianna</td>\n",
       "      <td>Mid Cap</td>\n",
       "      <td>5231</td>\n",
       "      <td>42000</td>\n",
       "    </tr>\n",
       "    <tr>\n",
       "      <th>7</th>\n",
       "      <td>IT</td>\n",
       "      <td>Persistent Systems</td>\n",
       "      <td>Small Cap</td>\n",
       "      <td>750</td>\n",
       "      <td>19000</td>\n",
       "    </tr>\n",
       "    <tr>\n",
       "      <th>8</th>\n",
       "      <td>Finance</td>\n",
       "      <td>Bajaj Finance</td>\n",
       "      <td>Large Cap</td>\n",
       "      <td>1887</td>\n",
       "      <td>5500</td>\n",
       "    </tr>\n",
       "    <tr>\n",
       "      <th>9</th>\n",
       "      <td>Real Estate</td>\n",
       "      <td>DLF</td>\n",
       "      <td>Mid Cap</td>\n",
       "      <td>239</td>\n",
       "      <td>9000</td>\n",
       "    </tr>\n",
       "  </tbody>\n",
       "</table>\n",
       "</div>"
      ],
      "text/plain": [
       "        Sector             Company  MarketCap  Share Price  Amount Invested\n",
       "0           IT                 TCS  Large Cap         3250           500000\n",
       "1         FMCG          HINDUNILVR  Large Cap         2100            43000\n",
       "2      Finance            HDFCBANK    Mid Cap         1500            20000\n",
       "3       Pharma          Sun Pharma    Mid Cap          930            34000\n",
       "4       Pharma               Lupin    Mid Cap          700            55000\n",
       "5         FMCG        Adani Wilmar  Small Cap          230            15000\n",
       "6         FMCG           Britianna    Mid Cap         5231            42000\n",
       "7           IT  Persistent Systems  Small Cap          750            19000\n",
       "8      Finance       Bajaj Finance  Large Cap         1887             5500\n",
       "9  Real Estate                 DLF    Mid Cap          239             9000"
      ]
     },
     "execution_count": 26,
     "metadata": {},
     "output_type": "execute_result"
    }
   ],
   "source": [
    "# A sample portfolio of stocks\n",
    "data = {\n",
    "    'Sector': ['IT', 'FMCG', 'Finance', 'Pharma', 'Pharma',\n",
    "               'FMCG', 'FMCG', 'IT', 'Finance', 'Real Estate'],\n",
    "    'Company': ['TCS', 'HINDUNILVR', 'HDFCBANK', 'Sun Pharma', 'Lupin',\n",
    "                'Adani Wilmar', 'Britianna', 'Persistent Systems', 'Bajaj Finance', 'DLF'],\n",
    "    'MarketCap': ['Large Cap', 'Large Cap', 'Mid Cap', 'Mid Cap', 'Mid Cap',\n",
    "                  'Small Cap', 'Mid Cap', 'Small Cap', 'Large Cap', 'Mid Cap'],\n",
    "    'Share Price': [3250, 2100, 1500, 930, 700, 230, 5231, 750, 1887, 239],\n",
    "    'Amount Invested': [500000, 43000, 20000, 34000, 55000, 15000, 42000, 19000, 5500, 9000]\n",
    "}\n",
    "\n",
    "portfolio = pd.DataFrame(data)\n",
    "portfolio\n"
   ]
  },
  {
   "cell_type": "code",
   "execution_count": 29,
   "id": "a83352a1-f0a4-4737-9dc9-3413544a00c7",
   "metadata": {},
   "outputs": [
    {
     "data": {
      "text/plain": [
       "{'FMCG': [1, 5, 6], 'Finance': [2, 8], 'IT': [0, 7], 'Pharma': [3, 4], 'Real Estate': [9]}"
      ]
     },
     "execution_count": 29,
     "metadata": {},
     "output_type": "execute_result"
    }
   ],
   "source": [
    "# Group by Sector\n",
    "portfolio.groupby('Sector').groups"
   ]
  },
  {
   "cell_type": "code",
   "execution_count": 31,
   "id": "2f36319b-b379-49f9-8378-42f605acacd9",
   "metadata": {},
   "outputs": [
    {
     "name": "stdout",
     "output_type": "stream",
     "text": [
      "FMCG\n",
      "  Sector       Company  MarketCap  Share Price  Amount Invested\n",
      "1   FMCG    HINDUNILVR  Large Cap         2100            43000\n",
      "5   FMCG  Adani Wilmar  Small Cap          230            15000\n",
      "6   FMCG     Britianna    Mid Cap         5231            42000\n",
      "\n",
      "Finance\n",
      "    Sector        Company  MarketCap  Share Price  Amount Invested\n",
      "2  Finance       HDFCBANK    Mid Cap         1500            20000\n",
      "8  Finance  Bajaj Finance  Large Cap         1887             5500\n",
      "\n",
      "IT\n",
      "  Sector             Company  MarketCap  Share Price  Amount Invested\n",
      "0     IT                 TCS  Large Cap         3250           500000\n",
      "7     IT  Persistent Systems  Small Cap          750            19000\n",
      "\n",
      "Pharma\n",
      "   Sector     Company MarketCap  Share Price  Amount Invested\n",
      "3  Pharma  Sun Pharma   Mid Cap          930            34000\n",
      "4  Pharma       Lupin   Mid Cap          700            55000\n",
      "\n",
      "Real Estate\n",
      "        Sector Company MarketCap  Share Price  Amount Invested\n",
      "9  Real Estate     DLF   Mid Cap          239             9000\n",
      "\n"
     ]
    }
   ],
   "source": [
    "# Loop through groups by Sector\n",
    "for name, group in portfolio.groupby('Sector'):\n",
    "    print(f\"{name}\\n{group}\\n\")\n"
   ]
  },
  {
   "cell_type": "code",
   "execution_count": null,
   "id": "f5f4b851-e4c1-401a-b5d4-732e22352990",
   "metadata": {},
   "outputs": [],
   "source": []
  },
  {
   "cell_type": "markdown",
   "id": "ecd255f5-9377-4ae2-b2c1-c783fc25eb18",
   "metadata": {},
   "source": [
    "🔹 Part 2: Time Series Basics"
   ]
  },
  {
   "cell_type": "code",
   "execution_count": 37,
   "id": "ef4fe811-9d8f-4a5f-96e1-6d395da3208d",
   "metadata": {},
   "outputs": [
    {
     "data": {
      "text/html": [
       "<div>\n",
       "<style scoped>\n",
       "    .dataframe tbody tr th:only-of-type {\n",
       "        vertical-align: middle;\n",
       "    }\n",
       "\n",
       "    .dataframe tbody tr th {\n",
       "        vertical-align: top;\n",
       "    }\n",
       "\n",
       "    .dataframe thead th {\n",
       "        text-align: right;\n",
       "    }\n",
       "</style>\n",
       "<table border=\"1\" class=\"dataframe\">\n",
       "  <thead>\n",
       "    <tr style=\"text-align: right;\">\n",
       "      <th></th>\n",
       "      <th>Timestamp</th>\n",
       "      <th>Value</th>\n",
       "    </tr>\n",
       "  </thead>\n",
       "  <tbody>\n",
       "    <tr>\n",
       "      <th>0</th>\n",
       "      <td>2023-01-01 10:00</td>\n",
       "      <td>100</td>\n",
       "    </tr>\n",
       "    <tr>\n",
       "      <th>1</th>\n",
       "      <td>2023-01-01 10:01</td>\n",
       "      <td>110</td>\n",
       "    </tr>\n",
       "    <tr>\n",
       "      <th>2</th>\n",
       "      <td>2023-01-01 10:02</td>\n",
       "      <td>105</td>\n",
       "    </tr>\n",
       "  </tbody>\n",
       "</table>\n",
       "</div>"
      ],
      "text/plain": [
       "          Timestamp  Value\n",
       "0  2023-01-01 10:00    100\n",
       "1  2023-01-01 10:01    110\n",
       "2  2023-01-01 10:02    105"
      ]
     },
     "execution_count": 37,
     "metadata": {},
     "output_type": "execute_result"
    }
   ],
   "source": [
    "# A sample time series data\n",
    "time_data = {\n",
    "    'Timestamp': ['2023-01-01 10:00', '2023-01-01 10:01', '2023-01-01 10:02'],\n",
    "    'Value': [100, 110, 105]\n",
    "}\n",
    "\n",
    "ts_df = pd.DataFrame(time_data)\n",
    "ts_df\n"
   ]
  },
  {
   "cell_type": "markdown",
   "id": "aaa37f48-c363-443d-902b-997017333a45",
   "metadata": {},
   "source": [
    "Right now, 'Timestamp' is just a string.  \n",
    "To do time-based analysis, we need to convert it to a proper DateTime format.\n"
   ]
  },
  {
   "cell_type": "code",
   "execution_count": null,
   "id": "2887b238-41e9-4b96-912c-bf7d7dedfe97",
   "metadata": {},
   "outputs": [],
   "source": []
  },
  {
   "cell_type": "markdown",
   "id": "14da0494-f1d4-46e0-9ab5-f494b63d8134",
   "metadata": {},
   "source": [
    "🕒 Part 3: Convert String to DateTime"
   ]
  },
  {
   "cell_type": "code",
   "execution_count": 41,
   "id": "dd7811b4-cd64-46b2-ac18-024418eb3fff",
   "metadata": {},
   "outputs": [
    {
     "data": {
      "text/html": [
       "<div>\n",
       "<style scoped>\n",
       "    .dataframe tbody tr th:only-of-type {\n",
       "        vertical-align: middle;\n",
       "    }\n",
       "\n",
       "    .dataframe tbody tr th {\n",
       "        vertical-align: top;\n",
       "    }\n",
       "\n",
       "    .dataframe thead th {\n",
       "        text-align: right;\n",
       "    }\n",
       "</style>\n",
       "<table border=\"1\" class=\"dataframe\">\n",
       "  <thead>\n",
       "    <tr style=\"text-align: right;\">\n",
       "      <th></th>\n",
       "      <th>Timestamp</th>\n",
       "      <th>Value</th>\n",
       "      <th>Hour</th>\n",
       "      <th>Minute</th>\n",
       "    </tr>\n",
       "  </thead>\n",
       "  <tbody>\n",
       "    <tr>\n",
       "      <th>0</th>\n",
       "      <td>2023-01-01 10:00:00</td>\n",
       "      <td>100</td>\n",
       "      <td>10</td>\n",
       "      <td>0</td>\n",
       "    </tr>\n",
       "    <tr>\n",
       "      <th>1</th>\n",
       "      <td>2023-01-01 10:01:00</td>\n",
       "      <td>110</td>\n",
       "      <td>10</td>\n",
       "      <td>1</td>\n",
       "    </tr>\n",
       "    <tr>\n",
       "      <th>2</th>\n",
       "      <td>2023-01-01 10:02:00</td>\n",
       "      <td>105</td>\n",
       "      <td>10</td>\n",
       "      <td>2</td>\n",
       "    </tr>\n",
       "  </tbody>\n",
       "</table>\n",
       "</div>"
      ],
      "text/plain": [
       "            Timestamp  Value  Hour  Minute\n",
       "0 2023-01-01 10:00:00    100    10       0\n",
       "1 2023-01-01 10:01:00    110    10       1\n",
       "2 2023-01-01 10:02:00    105    10       2"
      ]
     },
     "execution_count": 41,
     "metadata": {},
     "output_type": "execute_result"
    }
   ],
   "source": [
    "# Convert 'Timestamp' column to datetime format\n",
    "ts_df['Timestamp'] = pd.to_datetime(ts_df['Timestamp'])\n",
    "\n",
    "# Now we can access parts like hour, minute, etc.\n",
    "ts_df['Hour'] = ts_df['Timestamp'].dt.hour\n",
    "ts_df['Minute'] = ts_df['Timestamp'].dt.minute\n",
    "\n",
    "ts_df\n"
   ]
  },
  {
   "cell_type": "markdown",
   "id": "f3ae248d-cad7-4087-9d94-c5b424599704",
   "metadata": {},
   "source": [
    "✅ Summary"
   ]
  },
  {
   "cell_type": "markdown",
   "id": "755a0212-57f8-4fc9-a5e2-fc46bc8da84a",
   "metadata": {},
   "source": [
    "\n",
    "🔹groupby() is used to group data by categories and perform calculations\n",
    "\n",
    "🔹Time Series is all about working with time-stamped data\n",
    "\n",
    "🔹Use pd.to_datetime() to convert strings into datetime objects"
   ]
  },
  {
   "cell_type": "markdown",
   "id": "db7c6ff9-8d80-470b-936d-9877fe6270eb",
   "metadata": {},
   "source": [
    "🎉 That’s it for Day 3!\n",
    "\n",
    "You’ve learned:\n",
    "- How to group data\n",
    "- Basics of time series\n",
    "- Converting and working with datetime columns\n",
    "\n",
    "📢 Stay tuned for more and share your journey!\n",
    "#45DaysOfDataScience #Python #Pandas #TimeSeries #AIChallenge\n"
   ]
  }
 ],
 "metadata": {
  "kernelspec": {
   "display_name": "Python 3 (ipykernel)",
   "language": "python",
   "name": "python3"
  },
  "language_info": {
   "codemirror_mode": {
    "name": "ipython",
    "version": 3
   },
   "file_extension": ".py",
   "mimetype": "text/x-python",
   "name": "python",
   "nbconvert_exporter": "python",
   "pygments_lexer": "ipython3",
   "version": "3.9.20"
  }
 },
 "nbformat": 4,
 "nbformat_minor": 5
}
