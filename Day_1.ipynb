{
 "cells": [
  {
   "cell_type": "markdown",
   "id": "20cf4b31-0795-436e-9958-7ac8e471f521",
   "metadata": {},
   "source": [
    "# 📦 Day 1: Getting Started with Pandas in Python\n",
    "\n",
    "Welcome to Day 1 of our 45-day Data Science with AI Challenge! 🙌\n",
    "\n",
    "Today, we're diving into **Pandas**, one of the most important libraries for data analysis.\n",
    "\n",
    "We'll learn two key concepts:\n",
    "1. 📈 **Pandas Series**\n",
    "2. 📊 **Pandas DataFrames**\n",
    "\n",
    "Let’s get started!\n"
   ]
  },
  {
   "cell_type": "markdown",
   "id": "d20ee15b-45be-4c9a-9607-51e6d482a822",
   "metadata": {},
   "source": [
    "🔹 What is Pandas?"
   ]
  },
  {
   "cell_type": "markdown",
   "id": "becdde1a-be2e-4a1a-9a78-ff61ba9716f0",
   "metadata": {},
   "source": [
    "Pandas is a Python library used to:\n",
    "- Organize data (like Excel tables)\n",
    "- Clean, filter, and analyze data easily\n"
   ]
  },
  {
   "cell_type": "code",
   "execution_count": 24,
   "id": "2161ecd9-5253-4327-918e-edd9e13af55c",
   "metadata": {},
   "outputs": [],
   "source": [
    "# First, we import the pandas library\n",
    "import pandas as pd\n"
   ]
  },
  {
   "cell_type": "markdown",
   "id": "afccf09d-036c-4203-b1e9-90580f77aae4",
   "metadata": {},
   "source": [
    "📈 Part 1: Pandas Series\n"
   ]
  },
  {
   "cell_type": "markdown",
   "id": "3c980956-3094-470c-9951-5f555ea9c54c",
   "metadata": {},
   "source": [
    "A **Series** is like a single column of data. Think of it like a list, but with labels (called an index).\n"
   ]
  },
  {
   "cell_type": "code",
   "execution_count": 28,
   "id": "29a9be3f-4ebf-4658-9912-714a4ede91f7",
   "metadata": {},
   "outputs": [
    {
     "name": "stdout",
     "output_type": "stream",
     "text": [
      "0    10\n",
      "1    20\n",
      "2    30\n",
      "3    40\n",
      "4    50\n",
      "dtype: int64\n"
     ]
    }
   ],
   "source": [
    "# Creating a simple Series\n",
    "data = [10, 20, 30, 40, 50]\n",
    "series = pd.Series(data)\n",
    "\n",
    "# Display the Series\n",
    "print(series)\n"
   ]
  },
  {
   "cell_type": "markdown",
   "id": "30ee718b-e55e-4cd1-ab96-cdede7ece02a",
   "metadata": {},
   "source": [
    "🔍 Notice:\n",
    "- Left column = index (0, 1, 2...)\n",
    "- Right column = actual values (10, 20, etc.)\n"
   ]
  },
  {
   "cell_type": "markdown",
   "id": "1a763215-2502-4656-ba75-dc7ec036d41b",
   "metadata": {},
   "source": [
    "🔄 Customize the Index"
   ]
  },
  {
   "cell_type": "code",
   "execution_count": 32,
   "id": "8740e211-d358-4c45-ad2b-5f6e30a9dc28",
   "metadata": {},
   "outputs": [
    {
     "name": "stdout",
     "output_type": "stream",
     "text": [
      "Math       90\n",
      "Science    80\n",
      "English    70\n",
      "dtype: int64\n"
     ]
    }
   ],
   "source": [
    "# Create a Series with custom index labels\n",
    "series = pd.Series([90, 80, 70], index=[\"Math\", \"Science\", \"English\"])\n",
    "print(series)\n"
   ]
  },
  {
   "cell_type": "markdown",
   "id": "84130fd8-cb86-4b37-9a79-855729801c0b",
   "metadata": {},
   "source": [
    "✅ Now you can access items by name, like: `series[\"Math\"]`\n"
   ]
  },
  {
   "cell_type": "markdown",
   "id": "fe82f9d4-b3dd-4493-8112-0f6b7d169761",
   "metadata": {},
   "source": [
    "💎 Part 2: Series Methods – unique(), nunique(), sort_values()"
   ]
  },
  {
   "cell_type": "code",
   "execution_count": 36,
   "id": "c029260b-df81-4a9c-b4a5-bfb59abee55a",
   "metadata": {},
   "outputs": [
    {
     "name": "stdout",
     "output_type": "stream",
     "text": [
      "Unique values: [90 85 75 95]\n",
      "Number of unique values: 4\n",
      "Sorted values:\n",
      " 3    75\n",
      "1    85\n",
      "4    85\n",
      "0    90\n",
      "2    90\n",
      "6    90\n",
      "5    95\n",
      "dtype: int64\n"
     ]
    }
   ],
   "source": [
    "# Sample series\n",
    "marks = pd.Series([90, 85, 90, 75, 85, 95, 90])\n",
    "\n",
    "# Get unique values\n",
    "print(\"Unique values:\", marks.unique())\n",
    "\n",
    "# Get count of unique values\n",
    "print(\"Number of unique values:\", marks.nunique())\n",
    "\n",
    "# Sort the series\n",
    "print(\"Sorted values:\\n\", marks.sort_values())\n"
   ]
  },
  {
   "cell_type": "markdown",
   "id": "780e51b2-7c3f-4dcf-b405-a93c155b4c33",
   "metadata": {},
   "source": [
    "📊 Part 3: Intro to DataFrames"
   ]
  },
  {
   "cell_type": "markdown",
   "id": "5be8a884-5b79-4701-bf44-fc57fbc2f9f9",
   "metadata": {},
   "source": [
    "A **DataFrame** is like a whole table — multiple columns and rows (like a spreadsheet).\n"
   ]
  },
  {
   "cell_type": "code",
   "execution_count": 40,
   "id": "5a9db236-b186-4712-8ed6-8bb22aebe42e",
   "metadata": {},
   "outputs": [
    {
     "name": "stdout",
     "output_type": "stream",
     "text": [
      "      Name  Age         City\n",
      "0    Alice   25     New York\n",
      "1      Bob   30  Los Angeles\n",
      "2  Charlie   35      Chicago\n",
      "3    David   40      Houston\n",
      "4      Eve   45        Miami\n"
     ]
    }
   ],
   "source": [
    "# Create a DataFrame using a dictionary\n",
    "data = {\n",
    "    'Name': ['Alice', 'Bob', 'Charlie', 'David', 'Eve'],\n",
    "    'Age': [25, 30, 35, 40, 45],\n",
    "    'City': ['New York', 'Los Angeles', 'Chicago', 'Houston', 'Miami']\n",
    "}\n",
    "\n",
    "df = pd.DataFrame(data)\n",
    "print(df)\n"
   ]
  },
  {
   "cell_type": "markdown",
   "id": "44766454-e830-4b1a-9fbb-6ac2c7421d11",
   "metadata": {},
   "source": [
    "You can think of:\n",
    "- Each **row** as a person\n",
    "- Each **column** as a type of info (name, age, city)\n",
    "\n",
    "Later, we'll learn how to filter, sort, and clean this data easily.\n"
   ]
  },
  {
   "cell_type": "markdown",
   "id": "2cb07f84-e8f8-4cc9-802b-2ded372c7ef1",
   "metadata": {},
   "source": [
    "✅ Summary\n",
    "\n",
    "\n",
    "✅ Pandas is a library for handling data in Python\n",
    "\n",
    "📈 A Series = single column with labels (index)\n",
    "\n",
    "📊 A DataFrame = full table with rows and columns\n",
    "\n",
    "🔧 You practiced creating, sorting, and exploring Series and DataFrames"
   ]
  },
  {
   "cell_type": "markdown",
   "id": "7fc3c7c3-7061-43d1-a137-5c286d4e9d12",
   "metadata": {},
   "source": [
    "🎉 Great job on completing Day 1!\n",
    "\n",
    "👉 Up next: Filtering rows and cleaning missing values in real datasets.\n",
    "\n",
    "📢 Share your progress with the hashtag: #45DaysOfDataScience\n"
   ]
  }
 ],
 "metadata": {
  "kernelspec": {
   "display_name": "Python 3 (ipykernel)",
   "language": "python",
   "name": "python3"
  },
  "language_info": {
   "codemirror_mode": {
    "name": "ipython",
    "version": 3
   },
   "file_extension": ".py",
   "mimetype": "text/x-python",
   "name": "python",
   "nbconvert_exporter": "python",
   "pygments_lexer": "ipython3",
   "version": "3.9.20"
  }
 },
 "nbformat": 4,
 "nbformat_minor": 5
}
